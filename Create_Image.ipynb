{
 "cells": [
  {
   "cell_type": "code",
   "execution_count": 59,
   "metadata": {},
   "outputs": [],
   "source": [
    "def RandomCharSet(charCount = 4):\n",
    "    import random as rand\n",
    "#     import ipynb.fs.full.Definitions\n",
    "    \n",
    "#     numbers = [1,2,3,4,5,6,7,8,9,0]\n",
    "#     alphabets = ['a', 'b', 'c', 'c', 'e', 'f', 'g', 'h', 'i', 'j', 'k', 'l', 'm', 'n', 'o', 'p', 'q', 'r', 's', 't', 'u', 'v', 'w', 'x', 'y', 'z']\n",
    "#     ALPHABETs = ['A', 'B', 'C', 'C', 'E', 'F', 'G', 'H', 'I', 'J', 'K', 'L', 'M', 'N', 'O', 'P', 'Q', 'R', 'S', 'T', 'U', 'V', 'W', 'X', 'Y', 'Z']\n",
    "    \n",
    "#     charSet = numbers + alphabets + ALPHABETs     \n",
    "    \n",
    "    %store -r charSet\n",
    "    \n",
    "    charChoices = []\n",
    "    \n",
    "    for i in range(charCount):\n",
    "        charChoices.append(str(rand.choice(charSet)))\n",
    "    \n",
    "    return charChoices\n",
    "    "
   ]
  },
  {
   "cell_type": "code",
   "execution_count": 60,
   "metadata": {},
   "outputs": [
    {
     "name": "stdout",
     "output_type": "stream",
     "text": [
      "['1', '8', 'I', 'A']\n"
     ]
    }
   ],
   "source": [
    "import random\n",
    "print(RandomCharSet(4))\n",
    "# print(sys.path)"
   ]
  },
  {
   "cell_type": "code",
   "execution_count": 62,
   "metadata": {},
   "outputs": [],
   "source": [
    "def GetCaptchaTextAndImage(charCount = 4):\n",
    "    from captcha.image import ImageCaptcha\n",
    "    import numpy as np\n",
    "    from PIL import Image\n",
    "    \n",
    "    captcha = ImageCaptcha()\n",
    "    charSet = RandomCharSet(charCount)\n",
    "    image = captcha.generate(charSet)\n",
    "    image = Image.open(image)\n",
    "    image = np.array(image)\n",
    "    \n",
    "    return charSet, image\n"
   ]
  },
  {
   "cell_type": "code",
   "execution_count": 64,
   "metadata": {},
   "outputs": [
    {
     "name": "stdout",
     "output_type": "stream",
     "text": [
      "['Z', 'P', 'v', 'y']\n",
      "<class 'numpy.ndarray'>\n",
      "(60, 160, 3)\n"
     ]
    },
    {
     "data": {
      "image/png": "[encoded data removed]",
      "text/plain": [
       "<Figure size 432x288 with 1 Axes>"
      ]
     },
     "metadata": {},
     "output_type": "display_data"
    }
   ],
   "source": [
    "from PIL import Image\n",
    "from matplotlib.pyplot import imshow\n",
    "\n",
    "text, image = GetCaptchaTextAndImage(4)\n",
    "\n",
    "print(text)\n",
    "# image = Image.open(image)\n",
    "\n",
    "# import numpy as np\n",
    "\n",
    "# image = np.asarray(image)\n",
    "\n",
    "imshow(image)\n",
    "\n",
    "print(type(image))\n",
    "\n",
    "print(image.shape)"
   ]
  },
  {
   "cell_type": "code",
   "execution_count": 44,
   "metadata": {},
   "outputs": [
    {
     "name": "stdout",
     "output_type": "stream",
     "text": [
      "(25, 90, 3)\n"
     ]
    }
   ],
   "source": [
    "\n",
    "\n",
    "import numpy as np\n",
    "from PIL import Image as pi\n",
    "from IPython.display import Image\n",
    "\n",
    "fileName = '1.jpg'\n",
    "\n",
    "image = pi.open(fileName)\n",
    "image = np.array(image)\n",
    "\n",
    "Image(fileName)\n",
    "print(image.shape)"
   ]
  },
  {
   "cell_type": "code",
   "execution_count": 45,
   "metadata": {},
   "outputs": [
    {
     "name": "stdout",
     "output_type": "stream",
     "text": [
      "D:\\JGP\\OneDrive - Jabil\\ML\\Ticket_VerificationCode_CNN_lab\n"
     ]
    }
   ],
   "source": [
    "import os\n",
    "print(os.getcwd())"
   ]
  }
 ],
 "metadata": {
  "kernelspec": {
   "display_name": "Python 3",
   "language": "python",
   "name": "python3"
  },
  "language_info": {
   "codemirror_mode": {
    "name": "ipython",
    "version": 3
   },
   "file_extension": ".py",
   "mimetype": "text/x-python",
   "name": "python",
   "nbconvert_exporter": "python",
   "pygments_lexer": "ipython3",
   "version": "3.6.4"
  }
 },
 "nbformat": 4,
 "nbformat_minor": 2
}
