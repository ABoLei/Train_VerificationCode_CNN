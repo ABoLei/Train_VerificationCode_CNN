{
 "cells": [
  {
   "cell_type": "code",
   "execution_count": null,
   "metadata": {
    "scrolled": true
   },
   "outputs": [
    {
     "name": "stdout",
     "output_type": "stream",
     "text": [
      "Stored 'numbers' (list)\n",
      "Stored 'alphabets' (list)\n",
      "Stored 'ALPHABETs' (list)\n",
      "Stored 'IMAGE_HEIGHT' (int)\n",
      "Stored 'IMAGE_WIDTH' (int)\n",
      "Stored 'MAX_CAPTCHA' (int)\n",
      "Stored 'charSet' (list)\n",
      "Stored 'CHAR_SET_LEN' (int)\n",
      "62\n"
     ]
    }
   ],
   "source": [
    "#define possible alphabets, numbers\n",
    "%store numbers = ['0','1','2','3','4','5','6','7','8','9']\n",
    "%store alphabets = ['a','b','c','d','e','f','g','h','i','j','k','l','m','n','o','p','q','r','s','t','u','v','w','x','y','z']\n",
    "%store ALPHABETs = ['A','B','C','D','E','F','G','H','I','J','K','L','M','N','O','P','Q','R','S','T','U','V','W','X','Y','Z']\n",
    "\n",
    "# Define Image Properties\n",
    "%store IMAGE_HEIGHT = 60\n",
    "%store IMAGE_WIDTH = 160\n",
    "\n",
    "# Define max captcha = 4 digits\n",
    "%store MAX_CAPTCHA = 4 \n",
    "\n",
    "# Define char set length\n",
    "%store charSet = numbers + alphabets + ALPHABETs\n",
    "%store CHAR_SET_LEN = len(charSet)\n",
    "print(CHAR_SET_LEN)"
   ]
  },
  {
   "cell_type": "code",
   "execution_count": null,
   "metadata": {},
   "outputs": [],
   "source": []
  }
 ],
 "metadata": {
  "kernelspec": {
   "display_name": "Python 3",
   "language": "python",
   "name": "python3"
  },
  "language_info": {
   "codemirror_mode": {
    "name": "ipython",
    "version": 3
   },
   "file_extension": ".py",
   "mimetype": "text/x-python",
   "name": "python",
   "nbconvert_exporter": "python",
   "pygments_lexer": "ipython3",
   "version": "3.6.4"
  }
 },
 "nbformat": 4,
 "nbformat_minor": 2
}
